{
 "cells": [
  {
   "cell_type": "code",
   "execution_count": 28,
   "metadata": {},
   "outputs": [],
   "source": [
    "import pandas as pd \n",
    "import numpy as np "
   ]
  },
  {
   "cell_type": "code",
   "execution_count": 29,
   "metadata": {},
   "outputs": [],
   "source": [
    "df_2020_2022 = pd.read_excel(\"df_2020_2022.xlsx\")"
   ]
  },
  {
   "cell_type": "code",
   "execution_count": 30,
   "metadata": {},
   "outputs": [],
   "source": [
    "# Función para mapear sectores (1)\n",
    "\n",
    "def mapeo_sectores(cnae):\n",
    "    if cnae < 500:\n",
    "        return \"Agricultura\"\n",
    "    elif cnae < 1000:\n",
    "        return \"Extraccion\"\n",
    "    elif cnae < 3500:\n",
    "        return \"Industria\"\n",
    "    elif cnae < 3599:\n",
    "        return \"Energia\"\n",
    "    elif cnae < 4000:\n",
    "        return \"Agua\"\n",
    "    elif cnae < 4400:\n",
    "        return \"Construccion\"\n",
    "    elif cnae < 4800:\n",
    "        return \"Comercio\"\n",
    "    elif cnae < 5500:\n",
    "        return \"Transporte\"\n",
    "    elif cnae < 5800:\n",
    "        return \"Hosteleria\"\n",
    "    elif cnae < 6400:\n",
    "        return \"Comunicaciones\"\n",
    "    elif cnae < 6800:\n",
    "        return \"Financieras\"\n",
    "    elif cnae < 6900:\n",
    "        return \"Inmobiliarias\"\n",
    "    elif cnae < 7700:\n",
    "        return \"Actividades Profesionales\"\n",
    "    elif cnae < 8300:\n",
    "        return \"Actividades Administrativas\"\n",
    "    elif cnae < 8500:\n",
    "        return \"Administracion Publica y Defensa\"\n",
    "    elif cnae < 8600:\n",
    "        return \"Educacion\"\n",
    "    elif cnae < 9000:\n",
    "        return \"Actividades Sanitarias\"\n",
    "    elif cnae < 9400:\n",
    "        return \"Actividades Artisticas\"\n",
    "    else:\n",
    "        return \"Otros\"\n",
    "    \n",
    "\n",
    "df_2020_2022[\"Mapeo Sectores\"] = df_2020_2022[\"Código primario CNAE 2009\"].apply(mapeo_sectores)"
   ]
  },
  {
   "cell_type": "code",
   "execution_count": 31,
   "metadata": {},
   "outputs": [
    {
     "data": {
      "text/plain": [
       "Mapeo Sectores\n",
       "Comercio                            6031\n",
       "Industria                           4172\n",
       "Construccion                        3790\n",
       "Actividades Profesionales           3369\n",
       "Inmobiliarias                       2792\n",
       "Hosteleria                          1693\n",
       "Transporte                          1221\n",
       "Financieras                         1175\n",
       "Actividades Administrativas         1148\n",
       "Comunicaciones                       963\n",
       "Actividades Sanitarias               857\n",
       "Actividades Artisticas               574\n",
       "Otros                                458\n",
       "Educacion                            434\n",
       "Agricultura                          291\n",
       "Energia                              242\n",
       "Agua                                  98\n",
       "Extraccion                            37\n",
       "Administracion Publica y Defensa      13\n",
       "Name: count, dtype: int64"
      ]
     },
     "execution_count": 31,
     "metadata": {},
     "output_type": "execute_result"
    }
   ],
   "source": [
    "df_2020_2022[\"Mapeo Sectores\"].value_counts()"
   ]
  },
  {
   "cell_type": "code",
   "execution_count": 32,
   "metadata": {},
   "outputs": [
    {
     "data": {
      "text/plain": [
       "Mapeo Sectores\n",
       "Construccion e Inmobilarias                6582\n",
       "Comercio                                   6031\n",
       "Otros                                      5115\n",
       "Actividades Profesionales y Financieras    4544\n",
       "Industria                                  4172\n",
       "Hosteleria                                 1693\n",
       "Transporte                                 1221\n",
       "Name: count, dtype: int64"
      ]
     },
     "execution_count": 32,
     "metadata": {},
     "output_type": "execute_result"
    }
   ],
   "source": [
    "def mapeo_sectores(cnae):\n",
    "    if cnae < 500:\n",
    "        return \"Otros\" # Agricultura\n",
    "    elif cnae < 1000:\n",
    "        return \"Otros\" # Extraccion\n",
    "    elif cnae < 3500:\n",
    "        return \"Industria\"\n",
    "    elif cnae < 3599:\n",
    "        return \"Otros\" # Energia\n",
    "    elif cnae < 4000:\n",
    "        return \"Otros\" # Agua\n",
    "    elif cnae < 4400:\n",
    "        return \"Construccion e Inmobilarias\" # Construccion\n",
    "    elif cnae < 4800:\n",
    "        return \"Comercio\"\n",
    "    elif cnae < 5500:\n",
    "        return \"Transporte\"\n",
    "    elif cnae < 5800:\n",
    "        return \"Hosteleria\"\n",
    "    elif cnae < 6400:\n",
    "        return \"Otros\" # Comunicaciones\n",
    "    elif cnae < 6800:\n",
    "        return \"Actividades Profesionales y Financieras\" # Financieras\n",
    "    elif cnae < 6900:\n",
    "        return \"Construccion e Inmobilarias\" # Inmobiliarias\n",
    "    elif cnae < 7700:\n",
    "        return \"Actividades Profesionales y Financieras\" # Actividades Profesionales\n",
    "    elif cnae < 8300:\n",
    "        return \"Otros\" # Actividades Administrativas\n",
    "    elif cnae < 8500:\n",
    "        return \"Otros\" # Administracion Publica y Defensa\n",
    "    elif cnae < 8600:\n",
    "        return \"Otros\" # Educacion\n",
    "    elif cnae < 9000:\n",
    "        return \"Otros\" # Actividades Sanitarias\n",
    "    elif cnae < 9400:\n",
    "        return \"Otros\" # Actividades Artisticas\n",
    "    else:\n",
    "        return \"Otros\"\n",
    "    \n",
    "df_2020_2022[\"Mapeo Sectores\"] = df_2020_2022[\"Código primario CNAE 2009\"].apply(mapeo_sectores)\n",
    "df_2020_2022[\"Mapeo Sectores\"].value_counts()"
   ]
  },
  {
   "cell_type": "code",
   "execution_count": 35,
   "metadata": {},
   "outputs": [],
   "source": [
    "factorizacion_sectores = df_2020_2022[\"Mapeo Sectores\"].factorize()\n",
    "df_2020_2022[\"Sectores Factorizado\"] = factorizacion_sectores[0] # Se podría hacer +1 (Para que no empiece de 0)\n",
    "\n",
    "# Columnas a borrar:\n",
    "    # Código primario CNAE 2009\n",
    "    # Literal código CNAE 2009 primario\n",
    "    # Mapeo Sectores"
   ]
  }
 ],
 "metadata": {
  "kernelspec": {
   "display_name": "M22_modelizacion",
   "language": "python",
   "name": "python3"
  },
  "language_info": {
   "codemirror_mode": {
    "name": "ipython",
    "version": 3
   },
   "file_extension": ".py",
   "mimetype": "text/x-python",
   "name": "python",
   "nbconvert_exporter": "python",
   "pygments_lexer": "ipython3",
   "version": "3.9.18"
  }
 },
 "nbformat": 4,
 "nbformat_minor": 2
}
