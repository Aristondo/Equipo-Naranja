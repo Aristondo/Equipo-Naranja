{
 "cells": [
  {
   "cell_type": "code",
   "execution_count": 1,
   "metadata": {},
   "outputs": [],
   "source": [
    "import pandas as pd\n",
    "import numpy as np\n",
    "\n",
    "import matplotlib.pyplot as plt\n",
    "import seaborn as sns\n",
    "\n",
    "import warnings\n",
    "warnings.filterwarnings('ignore')"
   ]
  },
  {
   "cell_type": "code",
   "execution_count": 2,
   "metadata": {},
   "outputs": [],
   "source": [
    "from sklearn.cluster import KMeans\n",
    "from sklearn import metrics\n",
    "from sklearn.preprocessing import StandardScaler"
   ]
  },
  {
   "cell_type": "markdown",
   "metadata": {},
   "source": [
    "### Escalado de los datos y asignacion de pesos a las variables"
   ]
  },
  {
   "cell_type": "code",
   "execution_count": 3,
   "metadata": {},
   "outputs": [],
   "source": [
    "df_analisis_out = pd.read_excel('df_outliers.xlsx')\n",
    "df_analisis_sinout = pd.read_excel('df_sin_outliers.xlsx')\n",
    "df=pd.read_excel('df_procesado.xlsx')\n",
    "df_empresas=pd.read_excel('df_empresas.xlsx')"
   ]
  },
  {
   "cell_type": "code",
   "execution_count": 4,
   "metadata": {},
   "outputs": [],
   "source": [
    "df_analisis_sinout_sinnif = df_analisis_sinout.drop([\"Código NIF\"],axis = 1)"
   ]
  },
  {
   "cell_type": "code",
   "execution_count": 5,
   "metadata": {},
   "outputs": [],
   "source": [
    "scaler = StandardScaler()\n",
    "data_scaled = scaler.fit_transform(df_analisis_sinout_sinnif)"
   ]
  },
  {
   "cell_type": "code",
   "execution_count": 6,
   "metadata": {},
   "outputs": [
    {
     "data": {
      "text/plain": [
       "array([[-0.42130873, -0.71654564,  2.69396344, ..., -0.99914681,\n",
       "         1.1156542 ,  1.6483314 ],\n",
       "       [-0.42130873, -0.71654564,  2.77301634, ..., -0.99914681,\n",
       "        -0.52667018,  1.6483314 ],\n",
       "       [-0.42130873, -0.71654564,  3.21985567, ..., -0.30447551,\n",
       "        -1.34783238,  0.79225848],\n",
       "       ...,\n",
       "       [ 2.37355633, -0.71654564,  0.01344052, ...,  1.08486707,\n",
       "        -0.52667018,  0.79225848],\n",
       "       [ 2.37355633, -0.71654564, -0.24890874, ...,  1.08486707,\n",
       "        -0.52667018, -0.91988736],\n",
       "       [ 2.37355633, -0.71654564, -0.69920292, ..., -1.6938181 ,\n",
       "        -0.52667018, -1.77596028]])"
      ]
     },
     "execution_count": 6,
     "metadata": {},
     "output_type": "execute_result"
    }
   ],
   "source": [
    "data_scaled"
   ]
  },
  {
   "cell_type": "code",
   "execution_count": 7,
   "metadata": {},
   "outputs": [
    {
     "data": {
      "text/html": [
       "<div>\n",
       "<style scoped>\n",
       "    .dataframe tbody tr th:only-of-type {\n",
       "        vertical-align: middle;\n",
       "    }\n",
       "\n",
       "    .dataframe tbody tr th {\n",
       "        vertical-align: top;\n",
       "    }\n",
       "\n",
       "    .dataframe thead th {\n",
       "        text-align: right;\n",
       "    }\n",
       "</style>\n",
       "<table border=\"1\" class=\"dataframe\">\n",
       "  <thead>\n",
       "    <tr style=\"text-align: right;\">\n",
       "      <th></th>\n",
       "      <th>Total activo\\nmil EUR\\n2022</th>\n",
       "      <th>Endeudamiento_cate</th>\n",
       "      <th>Solvencia</th>\n",
       "      <th>Evolucion_ventas_cate</th>\n",
       "      <th>ROA_cate</th>\n",
       "    </tr>\n",
       "  </thead>\n",
       "  <tbody>\n",
       "    <tr>\n",
       "      <th>count</th>\n",
       "      <td>25341.000000</td>\n",
       "      <td>25341.000000</td>\n",
       "      <td>25341.000000</td>\n",
       "      <td>25341.000000</td>\n",
       "      <td>25341.000000</td>\n",
       "    </tr>\n",
       "    <tr>\n",
       "      <th>mean</th>\n",
       "      <td>651.164973</td>\n",
       "      <td>2.642279</td>\n",
       "      <td>2.438302</td>\n",
       "      <td>2.641372</td>\n",
       "      <td>2.074543</td>\n",
       "    </tr>\n",
       "    <tr>\n",
       "      <th>std</th>\n",
       "      <td>784.300442</td>\n",
       "      <td>1.164088</td>\n",
       "      <td>1.439558</td>\n",
       "      <td>1.217810</td>\n",
       "      <td>1.168148</td>\n",
       "    </tr>\n",
       "    <tr>\n",
       "      <th>min</th>\n",
       "      <td>0.027570</td>\n",
       "      <td>0.000000</td>\n",
       "      <td>0.000000</td>\n",
       "      <td>0.000000</td>\n",
       "      <td>0.000000</td>\n",
       "    </tr>\n",
       "    <tr>\n",
       "      <th>25%</th>\n",
       "      <td>119.868500</td>\n",
       "      <td>2.000000</td>\n",
       "      <td>1.000000</td>\n",
       "      <td>2.000000</td>\n",
       "      <td>1.000000</td>\n",
       "    </tr>\n",
       "    <tr>\n",
       "      <th>50%</th>\n",
       "      <td>325.922250</td>\n",
       "      <td>3.000000</td>\n",
       "      <td>3.000000</td>\n",
       "      <td>3.000000</td>\n",
       "      <td>2.000000</td>\n",
       "    </tr>\n",
       "    <tr>\n",
       "      <th>75%</th>\n",
       "      <td>857.121700</td>\n",
       "      <td>4.000000</td>\n",
       "      <td>4.000000</td>\n",
       "      <td>4.000000</td>\n",
       "      <td>3.000000</td>\n",
       "    </tr>\n",
       "    <tr>\n",
       "      <th>max</th>\n",
       "      <td>3637.544480</td>\n",
       "      <td>4.000000</td>\n",
       "      <td>4.000000</td>\n",
       "      <td>4.000000</td>\n",
       "      <td>4.000000</td>\n",
       "    </tr>\n",
       "  </tbody>\n",
       "</table>\n",
       "</div>"
      ],
      "text/plain": [
       "       Total activo\\nmil EUR\\n2022  Endeudamiento_cate     Solvencia  \\\n",
       "count                 25341.000000        25341.000000  25341.000000   \n",
       "mean                    651.164973            2.642279      2.438302   \n",
       "std                     784.300442            1.164088      1.439558   \n",
       "min                       0.027570            0.000000      0.000000   \n",
       "25%                     119.868500            2.000000      1.000000   \n",
       "50%                     325.922250            3.000000      3.000000   \n",
       "75%                     857.121700            4.000000      4.000000   \n",
       "max                    3637.544480            4.000000      4.000000   \n",
       "\n",
       "       Evolucion_ventas_cate      ROA_cate  \n",
       "count           25341.000000  25341.000000  \n",
       "mean                2.641372      2.074543  \n",
       "std                 1.217810      1.168148  \n",
       "min                 0.000000      0.000000  \n",
       "25%                 2.000000      1.000000  \n",
       "50%                 3.000000      2.000000  \n",
       "75%                 4.000000      3.000000  \n",
       "max                 4.000000      4.000000  "
      ]
     },
     "execution_count": 7,
     "metadata": {},
     "output_type": "execute_result"
    }
   ],
   "source": [
    "df_analisis_sinout_sinnif.describe()"
   ]
  },
  {
   "cell_type": "code",
   "execution_count": 8,
   "metadata": {},
   "outputs": [
    {
     "data": {
      "text/plain": [
       "ROA_cate\n",
       "0    3837\n",
       "1    2907\n",
       "2    8124\n",
       "3    8476\n",
       "4    1997\n",
       "Name: count, dtype: int64"
      ]
     },
     "execution_count": 8,
     "metadata": {},
     "output_type": "execute_result"
    }
   ],
   "source": [
    "df_analisis_sinout_sinnif[\"ROA_cate\"].value_counts().sort_index()"
   ]
  },
  {
   "cell_type": "code",
   "execution_count": 9,
   "metadata": {},
   "outputs": [
    {
     "data": {
      "text/plain": [
       "Solvencia\n",
       "0    3704\n",
       "1    3747\n",
       "2    3906\n",
       "3    5706\n",
       "4    8278\n",
       "Name: count, dtype: int64"
      ]
     },
     "execution_count": 9,
     "metadata": {},
     "output_type": "execute_result"
    }
   ],
   "source": [
    "df_analisis_sinout_sinnif[\"Solvencia\"].value_counts().sort_index()"
   ]
  },
  {
   "cell_type": "code",
   "execution_count": 10,
   "metadata": {},
   "outputs": [],
   "source": [
    "pesos = np.array([0.7,0.7,2.5,1,1,1,1,1,1,1,1.5,2,2,1.5,2])\n",
    "data_pesos = data_scaled*pesos"
   ]
  },
  {
   "cell_type": "markdown",
   "metadata": {},
   "source": [
    "## KMEANS"
   ]
  },
  {
   "cell_type": "code",
   "execution_count": 11,
   "metadata": {},
   "outputs": [],
   "source": [
    "inertia = []\n",
    "k = range(1, 15)\n",
    "for n_clusters in k:\n",
    "    kmeans = KMeans(n_clusters = n_clusters, random_state = 42, init = 'k-means++')\n",
    "    kmeans.fit(data_pesos)\n",
    "    inertia.append(kmeans.inertia_)"
   ]
  },
  {
   "cell_type": "code",
   "execution_count": 12,
   "metadata": {},
   "outputs": [
    {
     "data": {
      "text/plain": [
       "<function matplotlib.pyplot.show(close=None, block=None)>"
      ]
     },
     "execution_count": 12,
     "metadata": {},
     "output_type": "execute_result"
    },
    {
     "data": {
      "image/png": "[encoded data removed]",
      "text/plain": [
       "<Figure size 640x480 with 1 Axes>"
      ]
     },
     "metadata": {},
     "output_type": "display_data"
    }
   ],
   "source": [
    "plt.plot(k, inertia, marker = 'o')\n",
    "plt.title('Método del codo para optimizar K')\n",
    "plt.xlabel('Numero de clusters (k)')\n",
    "plt.ylabel('Inertia')\n",
    "plt.axvline(x = 4,color = \"red\",alpha = 0.3,linestyle = \"--\")\n",
    "plt.show"
   ]
  },
  {
   "cell_type": "markdown",
   "metadata": {},
   "source": [
    "Elegimos el modelo con 4 clusters"
   ]
  },
  {
   "cell_type": "code",
   "execution_count": 13,
   "metadata": {},
   "outputs": [],
   "source": [
    "kmeans = KMeans(n_clusters = 4, random_state = 42)\n",
    "clusters = kmeans.fit_predict(data_pesos)"
   ]
  },
  {
   "cell_type": "code",
   "execution_count": 14,
   "metadata": {},
   "outputs": [
    {
     "name": "stdout",
     "output_type": "stream",
     "text": [
      "Indice silueta: 0.2049021154039127\n"
     ]
    }
   ],
   "source": [
    "silueta_avg = metrics.silhouette_score(data_pesos, kmeans.labels_, metric = 'euclidean')\n",
    "print(f'Indice silueta: {silueta_avg}')"
   ]
  },
  {
   "cell_type": "code",
   "execution_count": 15,
   "metadata": {},
   "outputs": [],
   "source": [
    "df_analisis_sinout_sinnif[\"cluster_kmeans\"] = kmeans.labels_"
   ]
  },
  {
   "cell_type": "code",
   "execution_count": 16,
   "metadata": {},
   "outputs": [
    {
     "data": {
      "text/plain": [
       "cluster_kmeans\n",
       "0    12019\n",
       "2     9404\n",
       "1     3816\n",
       "3      102\n",
       "Name: count, dtype: int64"
      ]
     },
     "execution_count": 16,
     "metadata": {},
     "output_type": "execute_result"
    }
   ],
   "source": [
    "df_analisis_sinout_sinnif[\"cluster_kmeans\"].value_counts()"
   ]
  },
  {
   "cell_type": "code",
   "execution_count": 17,
   "metadata": {},
   "outputs": [
    {
     "data": {
      "text/plain": [
       "Solvencia\n",
       "4    8278\n",
       "3    5706\n",
       "2    3906\n",
       "1    3747\n",
       "0    3704\n",
       "Name: count, dtype: int64"
      ]
     },
     "execution_count": 17,
     "metadata": {},
     "output_type": "execute_result"
    }
   ],
   "source": [
    "df_analisis_sinout_sinnif[\"Solvencia\"].value_counts()"
   ]
  },
  {
   "cell_type": "code",
   "execution_count": 18,
   "metadata": {},
   "outputs": [
    {
     "data": {
      "text/html": [
       "<div>\n",
       "<style scoped>\n",
       "    .dataframe tbody tr th:only-of-type {\n",
       "        vertical-align: middle;\n",
       "    }\n",
       "\n",
       "    .dataframe tbody tr th {\n",
       "        vertical-align: top;\n",
       "    }\n",
       "\n",
       "    .dataframe thead th {\n",
       "        text-align: right;\n",
       "    }\n",
       "</style>\n",
       "<table border=\"1\" class=\"dataframe\">\n",
       "  <thead>\n",
       "    <tr style=\"text-align: right;\">\n",
       "      <th></th>\n",
       "      <th>Provincia_Alava</th>\n",
       "      <th>Provincia_Guipuzcoa</th>\n",
       "      <th>Total activo\\nmil EUR\\n2022</th>\n",
       "      <th>Empresa reciente</th>\n",
       "      <th>Sectores_Actividades Profesionales y Financieras</th>\n",
       "      <th>Sectores_Comercio</th>\n",
       "      <th>Sectores_Construccion e Inmobilarias</th>\n",
       "      <th>Sectores_Hosteleria</th>\n",
       "      <th>Sectores_Industria</th>\n",
       "      <th>Sectores_Transporte</th>\n",
       "      <th>Moneda no euro</th>\n",
       "      <th>Endeudamiento_cate</th>\n",
       "      <th>Solvencia</th>\n",
       "      <th>Evolucion_ventas_cate</th>\n",
       "      <th>ROA_cate</th>\n",
       "    </tr>\n",
       "    <tr>\n",
       "      <th>cluster_kmeans</th>\n",
       "      <th></th>\n",
       "      <th></th>\n",
       "      <th></th>\n",
       "      <th></th>\n",
       "      <th></th>\n",
       "      <th></th>\n",
       "      <th></th>\n",
       "      <th></th>\n",
       "      <th></th>\n",
       "      <th></th>\n",
       "      <th></th>\n",
       "      <th></th>\n",
       "      <th></th>\n",
       "      <th></th>\n",
       "      <th></th>\n",
       "    </tr>\n",
       "  </thead>\n",
       "  <tbody>\n",
       "    <tr>\n",
       "      <th>0</th>\n",
       "      <td>0.152675</td>\n",
       "      <td>0.352941</td>\n",
       "      <td>400.070273</td>\n",
       "      <td>0.076961</td>\n",
       "      <td>0.179965</td>\n",
       "      <td>0.196605</td>\n",
       "      <td>0.220318</td>\n",
       "      <td>0.050587</td>\n",
       "      <td>0.119394</td>\n",
       "      <td>0.039854</td>\n",
       "      <td>0.0</td>\n",
       "      <td>3.371911</td>\n",
       "      <td>3.441301</td>\n",
       "      <td>2.616857</td>\n",
       "      <td>2.409352</td>\n",
       "    </tr>\n",
       "    <tr>\n",
       "      <th>1</th>\n",
       "      <td>0.165094</td>\n",
       "      <td>0.362421</td>\n",
       "      <td>2228.887049</td>\n",
       "      <td>0.053459</td>\n",
       "      <td>0.112945</td>\n",
       "      <td>0.198375</td>\n",
       "      <td>0.260744</td>\n",
       "      <td>0.035639</td>\n",
       "      <td>0.206499</td>\n",
       "      <td>0.051887</td>\n",
       "      <td>0.0</td>\n",
       "      <td>2.995807</td>\n",
       "      <td>2.738470</td>\n",
       "      <td>2.844602</td>\n",
       "      <td>2.221436</td>\n",
       "    </tr>\n",
       "    <tr>\n",
       "      <th>2</th>\n",
       "      <td>0.142812</td>\n",
       "      <td>0.312101</td>\n",
       "      <td>322.566231</td>\n",
       "      <td>0.141748</td>\n",
       "      <td>0.128031</td>\n",
       "      <td>0.239579</td>\n",
       "      <td>0.215121</td>\n",
       "      <td>0.094960</td>\n",
       "      <td>0.101446</td>\n",
       "      <td>0.039983</td>\n",
       "      <td>0.0</td>\n",
       "      <td>1.566355</td>\n",
       "      <td>1.033390</td>\n",
       "      <td>2.589111</td>\n",
       "      <td>1.586772</td>\n",
       "    </tr>\n",
       "    <tr>\n",
       "      <th>3</th>\n",
       "      <td>0.117647</td>\n",
       "      <td>0.362745</td>\n",
       "      <td>1508.638751</td>\n",
       "      <td>0.039216</td>\n",
       "      <td>0.058824</td>\n",
       "      <td>0.450980</td>\n",
       "      <td>0.039216</td>\n",
       "      <td>0.000000</td>\n",
       "      <td>0.392157</td>\n",
       "      <td>0.009804</td>\n",
       "      <td>1.0</td>\n",
       "      <td>2.637255</td>\n",
       "      <td>2.549020</td>\n",
       "      <td>2.745098</td>\n",
       "      <td>2.098039</td>\n",
       "    </tr>\n",
       "  </tbody>\n",
       "</table>\n",
       "</div>"
      ],
      "text/plain": [
       "                Provincia_Alava  Provincia_Guipuzcoa  \\\n",
       "cluster_kmeans                                         \n",
       "0                      0.152675             0.352941   \n",
       "1                      0.165094             0.362421   \n",
       "2                      0.142812             0.312101   \n",
       "3                      0.117647             0.362745   \n",
       "\n",
       "                Total activo\\nmil EUR\\n2022  Empresa reciente  \\\n",
       "cluster_kmeans                                                  \n",
       "0                                400.070273          0.076961   \n",
       "1                               2228.887049          0.053459   \n",
       "2                                322.566231          0.141748   \n",
       "3                               1508.638751          0.039216   \n",
       "\n",
       "                Sectores_Actividades Profesionales y Financieras  \\\n",
       "cluster_kmeans                                                     \n",
       "0                                                       0.179965   \n",
       "1                                                       0.112945   \n",
       "2                                                       0.128031   \n",
       "3                                                       0.058824   \n",
       "\n",
       "                Sectores_Comercio  Sectores_Construccion e Inmobilarias  \\\n",
       "cluster_kmeans                                                            \n",
       "0                        0.196605                              0.220318   \n",
       "1                        0.198375                              0.260744   \n",
       "2                        0.239579                              0.215121   \n",
       "3                        0.450980                              0.039216   \n",
       "\n",
       "                Sectores_Hosteleria  Sectores_Industria  Sectores_Transporte  \\\n",
       "cluster_kmeans                                                                 \n",
       "0                          0.050587            0.119394             0.039854   \n",
       "1                          0.035639            0.206499             0.051887   \n",
       "2                          0.094960            0.101446             0.039983   \n",
       "3                          0.000000            0.392157             0.009804   \n",
       "\n",
       "                Moneda no euro  Endeudamiento_cate  Solvencia  \\\n",
       "cluster_kmeans                                                  \n",
       "0                          0.0            3.371911   3.441301   \n",
       "1                          0.0            2.995807   2.738470   \n",
       "2                          0.0            1.566355   1.033390   \n",
       "3                          1.0            2.637255   2.549020   \n",
       "\n",
       "                Evolucion_ventas_cate  ROA_cate  \n",
       "cluster_kmeans                                   \n",
       "0                            2.616857  2.409352  \n",
       "1                            2.844602  2.221436  \n",
       "2                            2.589111  1.586772  \n",
       "3                            2.745098  2.098039  "
      ]
     },
     "execution_count": 18,
     "metadata": {},
     "output_type": "execute_result"
    }
   ],
   "source": [
    "df_analisis_sinout_sinnif.groupby(\"cluster_kmeans\").mean()"
   ]
  },
  {
   "cell_type": "markdown",
   "metadata": {},
   "source": [
    "Analisis de los clusters"
   ]
  },
  {
   "cell_type": "code",
   "execution_count": 19,
   "metadata": {},
   "outputs": [],
   "source": [
    "df_analisis_sinout[\"Cluster kmeans\"] = kmeans.labels_"
   ]
  },
  {
   "cell_type": "code",
   "execution_count": 20,
   "metadata": {},
   "outputs": [],
   "source": [
    "df_analisis_sinout_c0 = df_analisis_sinout[df_analisis_sinout[\"Cluster kmeans\"] == 0]\n",
    "df_analisis_sinout_c1 = df_analisis_sinout[df_analisis_sinout[\"Cluster kmeans\"] == 1]\n",
    "df_analisis_sinout_c2 = df_analisis_sinout[df_analisis_sinout[\"Cluster kmeans\"] == 2]\n",
    "df_analisis_sinout_c3 = df_analisis_sinout[df_analisis_sinout[\"Cluster kmeans\"] == 3]"
   ]
  },
  {
   "cell_type": "code",
   "execution_count": 21,
   "metadata": {},
   "outputs": [],
   "source": [
    "df_total = pd.concat([df_analisis_sinout,df_analisis_out])"
   ]
  },
  {
   "cell_type": "code",
   "execution_count": 22,
   "metadata": {},
   "outputs": [
    {
     "data": {
      "text/html": [
       "<div>\n",
       "<style scoped>\n",
       "    .dataframe tbody tr th:only-of-type {\n",
       "        vertical-align: middle;\n",
       "    }\n",
       "\n",
       "    .dataframe tbody tr th {\n",
       "        vertical-align: top;\n",
       "    }\n",
       "\n",
       "    .dataframe thead th {\n",
       "        text-align: right;\n",
       "    }\n",
       "</style>\n",
       "<table border=\"1\" class=\"dataframe\">\n",
       "  <thead>\n",
       "    <tr style=\"text-align: right;\">\n",
       "      <th></th>\n",
       "      <th>Código NIF</th>\n",
       "      <th>Provincia_Alava</th>\n",
       "      <th>Provincia_Guipuzcoa</th>\n",
       "      <th>Total activo\\nmil EUR\\n2022</th>\n",
       "      <th>Empresa reciente</th>\n",
       "      <th>Sectores_Actividades Profesionales y Financieras</th>\n",
       "      <th>Sectores_Comercio</th>\n",
       "      <th>Sectores_Construccion e Inmobilarias</th>\n",
       "      <th>Sectores_Hosteleria</th>\n",
       "      <th>Sectores_Industria</th>\n",
       "      <th>Sectores_Transporte</th>\n",
       "      <th>Moneda no euro</th>\n",
       "      <th>Endeudamiento_cate</th>\n",
       "      <th>Solvencia</th>\n",
       "      <th>Evolucion_ventas_cate</th>\n",
       "      <th>ROA_cate</th>\n",
       "      <th>Cluster kmeans</th>\n",
       "    </tr>\n",
       "  </thead>\n",
       "  <tbody>\n",
       "    <tr>\n",
       "      <th>0</th>\n",
       "      <td>B95798278</td>\n",
       "      <td>False</td>\n",
       "      <td>False</td>\n",
       "      <td>2764.00000</td>\n",
       "      <td>False</td>\n",
       "      <td>False</td>\n",
       "      <td>False</td>\n",
       "      <td>True</td>\n",
       "      <td>False</td>\n",
       "      <td>False</td>\n",
       "      <td>False</td>\n",
       "      <td>False</td>\n",
       "      <td>1</td>\n",
       "      <td>1</td>\n",
       "      <td>4</td>\n",
       "      <td>4</td>\n",
       "      <td>1</td>\n",
       "    </tr>\n",
       "    <tr>\n",
       "      <th>1</th>\n",
       "      <td>B95869509</td>\n",
       "      <td>False</td>\n",
       "      <td>False</td>\n",
       "      <td>2826.00000</td>\n",
       "      <td>False</td>\n",
       "      <td>False</td>\n",
       "      <td>False</td>\n",
       "      <td>True</td>\n",
       "      <td>False</td>\n",
       "      <td>False</td>\n",
       "      <td>False</td>\n",
       "      <td>False</td>\n",
       "      <td>1</td>\n",
       "      <td>1</td>\n",
       "      <td>2</td>\n",
       "      <td>4</td>\n",
       "      <td>1</td>\n",
       "    </tr>\n",
       "    <tr>\n",
       "      <th>2</th>\n",
       "      <td>B20779468</td>\n",
       "      <td>False</td>\n",
       "      <td>False</td>\n",
       "      <td>3176.44937</td>\n",
       "      <td>False</td>\n",
       "      <td>False</td>\n",
       "      <td>False</td>\n",
       "      <td>False</td>\n",
       "      <td>False</td>\n",
       "      <td>False</td>\n",
       "      <td>False</td>\n",
       "      <td>False</td>\n",
       "      <td>2</td>\n",
       "      <td>2</td>\n",
       "      <td>1</td>\n",
       "      <td>3</td>\n",
       "      <td>1</td>\n",
       "    </tr>\n",
       "    <tr>\n",
       "      <th>3</th>\n",
       "      <td>A28784635</td>\n",
       "      <td>False</td>\n",
       "      <td>False</td>\n",
       "      <td>1255.54300</td>\n",
       "      <td>False</td>\n",
       "      <td>False</td>\n",
       "      <td>False</td>\n",
       "      <td>False</td>\n",
       "      <td>False</td>\n",
       "      <td>False</td>\n",
       "      <td>True</td>\n",
       "      <td>False</td>\n",
       "      <td>3</td>\n",
       "      <td>3</td>\n",
       "      <td>4</td>\n",
       "      <td>4</td>\n",
       "      <td>0</td>\n",
       "    </tr>\n",
       "    <tr>\n",
       "      <th>4</th>\n",
       "      <td>A48173975</td>\n",
       "      <td>False</td>\n",
       "      <td>False</td>\n",
       "      <td>2959.21695</td>\n",
       "      <td>False</td>\n",
       "      <td>False</td>\n",
       "      <td>False</td>\n",
       "      <td>False</td>\n",
       "      <td>False</td>\n",
       "      <td>False</td>\n",
       "      <td>False</td>\n",
       "      <td>False</td>\n",
       "      <td>3</td>\n",
       "      <td>0</td>\n",
       "      <td>4</td>\n",
       "      <td>3</td>\n",
       "      <td>1</td>\n",
       "    </tr>\n",
       "    <tr>\n",
       "      <th>...</th>\n",
       "      <td>...</td>\n",
       "      <td>...</td>\n",
       "      <td>...</td>\n",
       "      <td>...</td>\n",
       "      <td>...</td>\n",
       "      <td>...</td>\n",
       "      <td>...</td>\n",
       "      <td>...</td>\n",
       "      <td>...</td>\n",
       "      <td>...</td>\n",
       "      <td>...</td>\n",
       "      <td>...</td>\n",
       "      <td>...</td>\n",
       "      <td>...</td>\n",
       "      <td>...</td>\n",
       "      <td>...</td>\n",
       "      <td>...</td>\n",
       "    </tr>\n",
       "    <tr>\n",
       "      <th>4012</th>\n",
       "      <td>B01451459</td>\n",
       "      <td>True</td>\n",
       "      <td>False</td>\n",
       "      <td>3727.52321</td>\n",
       "      <td>False</td>\n",
       "      <td>True</td>\n",
       "      <td>False</td>\n",
       "      <td>False</td>\n",
       "      <td>False</td>\n",
       "      <td>False</td>\n",
       "      <td>False</td>\n",
       "      <td>False</td>\n",
       "      <td>1</td>\n",
       "      <td>0</td>\n",
       "      <td>2</td>\n",
       "      <td>0</td>\n",
       "      <td>-1</td>\n",
       "    </tr>\n",
       "    <tr>\n",
       "      <th>4013</th>\n",
       "      <td>B01404672</td>\n",
       "      <td>True</td>\n",
       "      <td>False</td>\n",
       "      <td>5137.45046</td>\n",
       "      <td>False</td>\n",
       "      <td>False</td>\n",
       "      <td>False</td>\n",
       "      <td>True</td>\n",
       "      <td>False</td>\n",
       "      <td>False</td>\n",
       "      <td>False</td>\n",
       "      <td>False</td>\n",
       "      <td>1</td>\n",
       "      <td>4</td>\n",
       "      <td>2</td>\n",
       "      <td>1</td>\n",
       "      <td>-1</td>\n",
       "    </tr>\n",
       "    <tr>\n",
       "      <th>4014</th>\n",
       "      <td>B01518513</td>\n",
       "      <td>True</td>\n",
       "      <td>False</td>\n",
       "      <td>8474.33033</td>\n",
       "      <td>False</td>\n",
       "      <td>False</td>\n",
       "      <td>False</td>\n",
       "      <td>True</td>\n",
       "      <td>False</td>\n",
       "      <td>False</td>\n",
       "      <td>False</td>\n",
       "      <td>False</td>\n",
       "      <td>1</td>\n",
       "      <td>1</td>\n",
       "      <td>2</td>\n",
       "      <td>1</td>\n",
       "      <td>-1</td>\n",
       "    </tr>\n",
       "    <tr>\n",
       "      <th>4015</th>\n",
       "      <td>B01384627</td>\n",
       "      <td>True</td>\n",
       "      <td>False</td>\n",
       "      <td>8116.22665</td>\n",
       "      <td>False</td>\n",
       "      <td>False</td>\n",
       "      <td>False</td>\n",
       "      <td>True</td>\n",
       "      <td>False</td>\n",
       "      <td>False</td>\n",
       "      <td>False</td>\n",
       "      <td>False</td>\n",
       "      <td>1</td>\n",
       "      <td>3</td>\n",
       "      <td>2</td>\n",
       "      <td>2</td>\n",
       "      <td>-1</td>\n",
       "    </tr>\n",
       "    <tr>\n",
       "      <th>4016</th>\n",
       "      <td>B95037396</td>\n",
       "      <td>True</td>\n",
       "      <td>False</td>\n",
       "      <td>173596.66426</td>\n",
       "      <td>False</td>\n",
       "      <td>True</td>\n",
       "      <td>False</td>\n",
       "      <td>False</td>\n",
       "      <td>False</td>\n",
       "      <td>False</td>\n",
       "      <td>False</td>\n",
       "      <td>False</td>\n",
       "      <td>4</td>\n",
       "      <td>0</td>\n",
       "      <td>2</td>\n",
       "      <td>1</td>\n",
       "      <td>-1</td>\n",
       "    </tr>\n",
       "  </tbody>\n",
       "</table>\n",
       "<p>29358 rows × 17 columns</p>\n",
       "</div>"
      ],
      "text/plain": [
       "     Código NIF  Provincia_Alava  Provincia_Guipuzcoa  \\\n",
       "0     B95798278            False                False   \n",
       "1     B95869509            False                False   \n",
       "2     B20779468            False                False   \n",
       "3     A28784635            False                False   \n",
       "4     A48173975            False                False   \n",
       "...         ...              ...                  ...   \n",
       "4012  B01451459             True                False   \n",
       "4013  B01404672             True                False   \n",
       "4014  B01518513             True                False   \n",
       "4015  B01384627             True                False   \n",
       "4016  B95037396             True                False   \n",
       "\n",
       "      Total activo\\nmil EUR\\n2022  Empresa reciente  \\\n",
       "0                      2764.00000             False   \n",
       "1                      2826.00000             False   \n",
       "2                      3176.44937             False   \n",
       "3                      1255.54300             False   \n",
       "4                      2959.21695             False   \n",
       "...                           ...               ...   \n",
       "4012                   3727.52321             False   \n",
       "4013                   5137.45046             False   \n",
       "4014                   8474.33033             False   \n",
       "4015                   8116.22665             False   \n",
       "4016                 173596.66426             False   \n",
       "\n",
       "      Sectores_Actividades Profesionales y Financieras  Sectores_Comercio  \\\n",
       "0                                                False              False   \n",
       "1                                                False              False   \n",
       "2                                                False              False   \n",
       "3                                                False              False   \n",
       "4                                                False              False   \n",
       "...                                                ...                ...   \n",
       "4012                                              True              False   \n",
       "4013                                             False              False   \n",
       "4014                                             False              False   \n",
       "4015                                             False              False   \n",
       "4016                                              True              False   \n",
       "\n",
       "      Sectores_Construccion e Inmobilarias  Sectores_Hosteleria  \\\n",
       "0                                     True                False   \n",
       "1                                     True                False   \n",
       "2                                    False                False   \n",
       "3                                    False                False   \n",
       "4                                    False                False   \n",
       "...                                    ...                  ...   \n",
       "4012                                 False                False   \n",
       "4013                                  True                False   \n",
       "4014                                  True                False   \n",
       "4015                                  True                False   \n",
       "4016                                 False                False   \n",
       "\n",
       "      Sectores_Industria  Sectores_Transporte  Moneda no euro  \\\n",
       "0                  False                False           False   \n",
       "1                  False                False           False   \n",
       "2                  False                False           False   \n",
       "3                  False                 True           False   \n",
       "4                  False                False           False   \n",
       "...                  ...                  ...             ...   \n",
       "4012               False                False           False   \n",
       "4013               False                False           False   \n",
       "4014               False                False           False   \n",
       "4015               False                False           False   \n",
       "4016               False                False           False   \n",
       "\n",
       "      Endeudamiento_cate  Solvencia  Evolucion_ventas_cate  ROA_cate  \\\n",
       "0                      1          1                      4         4   \n",
       "1                      1          1                      2         4   \n",
       "2                      2          2                      1         3   \n",
       "3                      3          3                      4         4   \n",
       "4                      3          0                      4         3   \n",
       "...                  ...        ...                    ...       ...   \n",
       "4012                   1          0                      2         0   \n",
       "4013                   1          4                      2         1   \n",
       "4014                   1          1                      2         1   \n",
       "4015                   1          3                      2         2   \n",
       "4016                   4          0                      2         1   \n",
       "\n",
       "      Cluster kmeans  \n",
       "0                  1  \n",
       "1                  1  \n",
       "2                  1  \n",
       "3                  0  \n",
       "4                  1  \n",
       "...              ...  \n",
       "4012              -1  \n",
       "4013              -1  \n",
       "4014              -1  \n",
       "4015              -1  \n",
       "4016              -1  \n",
       "\n",
       "[29358 rows x 17 columns]"
      ]
     },
     "execution_count": 22,
     "metadata": {},
     "output_type": "execute_result"
    }
   ],
   "source": [
    "df_total"
   ]
  },
  {
   "cell_type": "markdown",
   "metadata": {},
   "source": [
    "Empresa reciente:"
   ]
  },
  {
   "cell_type": "code",
   "execution_count": 23,
   "metadata": {},
   "outputs": [
    {
     "name": "stdout",
     "output_type": "stream",
     "text": [
      "Ratio empresa reciente / no reciente c0: 0.08337840274021995\n",
      "Ratio empresa reciente / no reciente c1: 0.05647840531561462\n",
      "Ratio empresa reciente / no reciente c2: 0.16515921199355718\n",
      "Ratio empresa reciente / no reciente c3: 0.04081632653061224\n",
      "Ratio empresa reciente / no reciente c-1: 0.05294888597640891\n"
     ]
    }
   ],
   "source": [
    "print(f'Ratio empresa reciente / no reciente c0: {df_analisis_sinout_c0[\"Empresa reciente\"].sum()/(len(df_analisis_sinout_c0)-df_analisis_sinout_c0[\"Empresa reciente\"].sum())}')\n",
    "print(f'Ratio empresa reciente / no reciente c1: {df_analisis_sinout_c1[\"Empresa reciente\"].sum()/(len(df_analisis_sinout_c1)-df_analisis_sinout_c1[\"Empresa reciente\"].sum())}')\n",
    "print(f'Ratio empresa reciente / no reciente c2: {df_analisis_sinout_c2[\"Empresa reciente\"].sum()/(len(df_analisis_sinout_c2)-df_analisis_sinout_c2[\"Empresa reciente\"].sum())}')\n",
    "print(f'Ratio empresa reciente / no reciente c3: {df_analisis_sinout_c3[\"Empresa reciente\"].sum()/(len(df_analisis_sinout_c3)-df_analisis_sinout_c3[\"Empresa reciente\"].sum())}')\n",
    "print(f'Ratio empresa reciente / no reciente c-1: {df_analisis_out[\"Empresa reciente\"].sum()/(len(df_analisis_out)-df_analisis_out[\"Empresa reciente\"].sum())}')"
   ]
  },
  {
   "cell_type": "markdown",
   "metadata": {},
   "source": [
    "## CLUSTERING JERARQUICO"
   ]
  },
  {
   "cell_type": "code",
   "execution_count": 24,
   "metadata": {},
   "outputs": [],
   "source": [
    "from sklearn.cluster import AgglomerativeClustering\n",
    "from scipy.cluster.hierarchy import dendrogram, linkage"
   ]
  },
  {
   "cell_type": "code",
   "execution_count": 25,
   "metadata": {},
   "outputs": [],
   "source": [
    "linkage_matrix = linkage(data_pesos, method = 'ward')"
   ]
  },
  {
   "cell_type": "code",
   "execution_count": 26,
   "metadata": {},
   "outputs": [
    {
     "data": {
      "image/png": "[encoded data removed]",
      "text/plain": [
       "<Figure size 1200x600 with 1 Axes>"
      ]
     },
     "metadata": {},
     "output_type": "display_data"
    }
   ],
   "source": [
    "plt.figure(figsize=(12,6))\n",
    "dendrogram(linkage_matrix, labels=df_analisis_sinout_sinnif.index, leaf_rotation=90, leaf_font_size=8)\n",
    "plt.title('Dendograma Jerarquico')\n",
    "plt.ylabel('Distancia')\n",
    "plt.show()"
   ]
  },
  {
   "cell_type": "code",
   "execution_count": 27,
   "metadata": {},
   "outputs": [],
   "source": [
    "n_clusters = 4\n",
    "model = AgglomerativeClustering(n_clusters = n_clusters, connectivity=None, linkage = 'ward', distance_threshold = None)\n",
    "clusters = model.fit_predict(data_pesos)\n",
    "\n",
    "df_analisis_sinout_sinnif['Cluster_jerar'] = clusters"
   ]
  },
  {
   "cell_type": "code",
   "execution_count": 28,
   "metadata": {},
   "outputs": [
    {
     "data": {
      "text/plain": [
       "Cluster_jerar\n",
       "0    14773\n",
       "1     8790\n",
       "3     1676\n",
       "2      102\n",
       "Name: count, dtype: int64"
      ]
     },
     "execution_count": 28,
     "metadata": {},
     "output_type": "execute_result"
    }
   ],
   "source": [
    "df_analisis_sinout_sinnif[\"Cluster_jerar\"].value_counts()"
   ]
  },
  {
   "cell_type": "code",
   "execution_count": 29,
   "metadata": {},
   "outputs": [
    {
     "data": {
      "text/html": [
       "<div>\n",
       "<style scoped>\n",
       "    .dataframe tbody tr th:only-of-type {\n",
       "        vertical-align: middle;\n",
       "    }\n",
       "\n",
       "    .dataframe tbody tr th {\n",
       "        vertical-align: top;\n",
       "    }\n",
       "\n",
       "    .dataframe thead th {\n",
       "        text-align: right;\n",
       "    }\n",
       "</style>\n",
       "<table border=\"1\" class=\"dataframe\">\n",
       "  <thead>\n",
       "    <tr style=\"text-align: right;\">\n",
       "      <th></th>\n",
       "      <th>Provincia_Alava</th>\n",
       "      <th>Provincia_Guipuzcoa</th>\n",
       "      <th>Total activo\\nmil EUR\\n2022</th>\n",
       "      <th>Empresa reciente</th>\n",
       "      <th>Sectores_Actividades Profesionales y Financieras</th>\n",
       "      <th>Sectores_Comercio</th>\n",
       "      <th>Sectores_Construccion e Inmobilarias</th>\n",
       "      <th>Sectores_Hosteleria</th>\n",
       "      <th>Sectores_Industria</th>\n",
       "      <th>Sectores_Transporte</th>\n",
       "      <th>Moneda no euro</th>\n",
       "      <th>Endeudamiento_cate</th>\n",
       "      <th>Solvencia</th>\n",
       "      <th>Evolucion_ventas_cate</th>\n",
       "      <th>ROA_cate</th>\n",
       "      <th>cluster_kmeans</th>\n",
       "    </tr>\n",
       "    <tr>\n",
       "      <th>Cluster_jerar</th>\n",
       "      <th></th>\n",
       "      <th></th>\n",
       "      <th></th>\n",
       "      <th></th>\n",
       "      <th></th>\n",
       "      <th></th>\n",
       "      <th></th>\n",
       "      <th></th>\n",
       "      <th></th>\n",
       "      <th></th>\n",
       "      <th></th>\n",
       "      <th></th>\n",
       "      <th></th>\n",
       "      <th></th>\n",
       "      <th></th>\n",
       "      <th></th>\n",
       "    </tr>\n",
       "  </thead>\n",
       "  <tbody>\n",
       "    <tr>\n",
       "      <th>0</th>\n",
       "      <td>0.136668</td>\n",
       "      <td>0.334529</td>\n",
       "      <td>314.364490</td>\n",
       "      <td>0.143640</td>\n",
       "      <td>0.142287</td>\n",
       "      <td>0.296893</td>\n",
       "      <td>0.199350</td>\n",
       "      <td>0.104583</td>\n",
       "      <td>0.075814</td>\n",
       "      <td>0.000000</td>\n",
       "      <td>0.0</td>\n",
       "      <td>2.229811</td>\n",
       "      <td>1.963718</td>\n",
       "      <td>2.626278</td>\n",
       "      <td>1.813714</td>\n",
       "      <td>1.158939</td>\n",
       "    </tr>\n",
       "    <tr>\n",
       "      <th>1</th>\n",
       "      <td>0.173606</td>\n",
       "      <td>0.338453</td>\n",
       "      <td>809.478637</td>\n",
       "      <td>0.036519</td>\n",
       "      <td>0.171217</td>\n",
       "      <td>0.071900</td>\n",
       "      <td>0.264733</td>\n",
       "      <td>0.000000</td>\n",
       "      <td>0.184187</td>\n",
       "      <td>0.119795</td>\n",
       "      <td>0.0</td>\n",
       "      <td>3.253242</td>\n",
       "      <td>3.164846</td>\n",
       "      <td>2.618544</td>\n",
       "      <td>2.487600</td>\n",
       "      <td>0.435495</td>\n",
       "    </tr>\n",
       "    <tr>\n",
       "      <th>2</th>\n",
       "      <td>0.117647</td>\n",
       "      <td>0.362745</td>\n",
       "      <td>1508.638751</td>\n",
       "      <td>0.039216</td>\n",
       "      <td>0.058824</td>\n",
       "      <td>0.450980</td>\n",
       "      <td>0.039216</td>\n",
       "      <td>0.000000</td>\n",
       "      <td>0.392157</td>\n",
       "      <td>0.009804</td>\n",
       "      <td>1.0</td>\n",
       "      <td>2.637255</td>\n",
       "      <td>2.549020</td>\n",
       "      <td>2.745098</td>\n",
       "      <td>2.098039</td>\n",
       "      <td>3.000000</td>\n",
       "    </tr>\n",
       "    <tr>\n",
       "      <th>3</th>\n",
       "      <td>0.156921</td>\n",
       "      <td>0.383652</td>\n",
       "      <td>2737.390572</td>\n",
       "      <td>0.011337</td>\n",
       "      <td>0.113962</td>\n",
       "      <td>0.211814</td>\n",
       "      <td>0.235084</td>\n",
       "      <td>0.054893</td>\n",
       "      <td>0.261337</td>\n",
       "      <td>0.000000</td>\n",
       "      <td>0.0</td>\n",
       "      <td>3.073986</td>\n",
       "      <td>2.804296</td>\n",
       "      <td>2.887828</td>\n",
       "      <td>2.205847</td>\n",
       "      <td>0.999403</td>\n",
       "    </tr>\n",
       "  </tbody>\n",
       "</table>\n",
       "</div>"
      ],
      "text/plain": [
       "               Provincia_Alava  Provincia_Guipuzcoa  \\\n",
       "Cluster_jerar                                         \n",
       "0                     0.136668             0.334529   \n",
       "1                     0.173606             0.338453   \n",
       "2                     0.117647             0.362745   \n",
       "3                     0.156921             0.383652   \n",
       "\n",
       "               Total activo\\nmil EUR\\n2022  Empresa reciente  \\\n",
       "Cluster_jerar                                                  \n",
       "0                               314.364490          0.143640   \n",
       "1                               809.478637          0.036519   \n",
       "2                              1508.638751          0.039216   \n",
       "3                              2737.390572          0.011337   \n",
       "\n",
       "               Sectores_Actividades Profesionales y Financieras  \\\n",
       "Cluster_jerar                                                     \n",
       "0                                                      0.142287   \n",
       "1                                                      0.171217   \n",
       "2                                                      0.058824   \n",
       "3                                                      0.113962   \n",
       "\n",
       "               Sectores_Comercio  Sectores_Construccion e Inmobilarias  \\\n",
       "Cluster_jerar                                                            \n",
       "0                       0.296893                              0.199350   \n",
       "1                       0.071900                              0.264733   \n",
       "2                       0.450980                              0.039216   \n",
       "3                       0.211814                              0.235084   \n",
       "\n",
       "               Sectores_Hosteleria  Sectores_Industria  Sectores_Transporte  \\\n",
       "Cluster_jerar                                                                 \n",
       "0                         0.104583            0.075814             0.000000   \n",
       "1                         0.000000            0.184187             0.119795   \n",
       "2                         0.000000            0.392157             0.009804   \n",
       "3                         0.054893            0.261337             0.000000   \n",
       "\n",
       "               Moneda no euro  Endeudamiento_cate  Solvencia  \\\n",
       "Cluster_jerar                                                  \n",
       "0                         0.0            2.229811   1.963718   \n",
       "1                         0.0            3.253242   3.164846   \n",
       "2                         1.0            2.637255   2.549020   \n",
       "3                         0.0            3.073986   2.804296   \n",
       "\n",
       "               Evolucion_ventas_cate  ROA_cate  cluster_kmeans  \n",
       "Cluster_jerar                                                   \n",
       "0                           2.626278  1.813714        1.158939  \n",
       "1                           2.618544  2.487600        0.435495  \n",
       "2                           2.745098  2.098039        3.000000  \n",
       "3                           2.887828  2.205847        0.999403  "
      ]
     },
     "execution_count": 29,
     "metadata": {},
     "output_type": "execute_result"
    }
   ],
   "source": [
    "df_analisis_sinout_sinnif.groupby(\"Cluster_jerar\").mean()"
   ]
  },
  {
   "cell_type": "code",
   "execution_count": 30,
   "metadata": {},
   "outputs": [
    {
     "name": "stdout",
     "output_type": "stream",
     "text": [
      "Índice de Silueta: 0.09672806305148762\n"
     ]
    }
   ],
   "source": [
    "silhouette_avg = metrics.silhouette_score(data_pesos, clusters)\n",
    "print(f'Índice de Silueta: {silhouette_avg}')"
   ]
  },
  {
   "cell_type": "code",
   "execution_count": 31,
   "metadata": {},
   "outputs": [],
   "source": [
    "sil_sc = {}\n",
    "# print(f'Indice silueta: {silueta_avg}')\n",
    "for n_clusters in range(2,6):\n",
    "    model = AgglomerativeClustering(n_clusters = n_clusters, connectivity=None, linkage = 'ward', distance_threshold = None)\n",
    "    clusters = model.fit_predict(data_pesos)\n",
    "    silueta_avg = metrics.silhouette_score(data_pesos, clusters, metric = 'euclidean')\n",
    "    sil_sc[str(n_clusters)] = silueta_avg\n"
   ]
  },
  {
   "cell_type": "code",
   "execution_count": 32,
   "metadata": {},
   "outputs": [
    {
     "data": {
      "text/plain": [
       "{'2': 0.1168408540633913,\n",
       " '3': 0.11787623026592846,\n",
       " '4': 0.09672806305148762,\n",
       " '5': 0.08426162569545974}"
      ]
     },
     "execution_count": 32,
     "metadata": {},
     "output_type": "execute_result"
    }
   ],
   "source": [
    "sil_sc"
   ]
  },
  {
   "cell_type": "code",
   "execution_count": 33,
   "metadata": {},
   "outputs": [],
   "source": [
    "model = AgglomerativeClustering(n_clusters = 5, connectivity=None, linkage = 'ward', distance_threshold = None)\n",
    "clusters = model.fit_predict(data_pesos)"
   ]
  },
  {
   "cell_type": "markdown",
   "metadata": {},
   "source": [
    "## OPTICS\n",
    "Para Optics hemos decidido usas las ratios no categorizadas. Pues de este modo se obtienen mejores resultados con este modelo, el cual no se ve distorsionado por outliers."
   ]
  },
  {
   "cell_type": "code",
   "execution_count": 34,
   "metadata": {},
   "outputs": [],
   "source": [
    "from sklearn.cluster import OPTICS,DBSCAN\n",
    "from sklearn.metrics import silhouette_score"
   ]
  },
  {
   "cell_type": "code",
   "execution_count": 59,
   "metadata": {},
   "outputs": [],
   "source": [
    "df=pd.read_excel('df_procesado.xlsx')\n",
    "df.set_index(\"Código NIF\", inplace=True)\n",
    "df.index.name=None\n",
    "scaler = StandardScaler()\n",
    "data_scaled = scaler.fit_transform(df)\n",
    "pesos = np.array([1,1,3.5,2.5,2,2,2,2,2,2,2.5,3,3,3,3])\n",
    "X = data_scaled*pesos"
   ]
  },
  {
   "cell_type": "markdown",
   "metadata": {},
   "source": [
    "Hemos utilizado este bucle para seleccionar los mejores parámetros para Optics. Es un método similar a GridSeach(), pero en este caso, optimizando por la Silueta.\n",
    "El código está desactivado ahora, debido a los altos requerimientos computacionales para ejecutarlo."
   ]
  },
  {
   "cell_type": "code",
   "execution_count": 60,
   "metadata": {},
   "outputs": [],
   "source": [
    "#parameter_values = {\n",
    "#    'min_samples': [2, 5, 10, 15],\n",
    "#    'xi': [0.05, 0.1, 0.2, 0.25],\n",
    "#    'metric': ['euclidean', 'manhattan', 'cosine']\n",
    "#}\n",
    "\n",
    "#best_score = -1\n",
    "#best_params = None\n",
    "#\n",
    "#\n",
    "#for min_samples in parameter_values['min_samples']:\n",
    "#    for xi in parameter_values['xi']:\n",
    "#        for metric in parameter_values['metric']:\n",
    "#            optics = OPTICS(min_samples=min_samples, xi=xi,metric=metric)\n",
    "#            optics.fit(X)\n",
    "#            silhouette_avg = silhouette_score(X, optics.labels_)\n",
    "#            if silhouette_avg > best_score:\n",
    "#                best_score = silhouette_avg\n",
    "#                best_params = {\n",
    "#                    'min_samples': min_samples,\n",
    "#                    'xi': xi,\n",
    "#                    'metric': metric\n",
    "#                                }\n",
    "#\n",
    "#print(\"Best Silhouette Score:\", best_score)\n",
    "#print(\"Best Parameters:\", best_para"
   ]
  },
  {
   "cell_type": "code",
   "execution_count": 61,
   "metadata": {},
   "outputs": [],
   "source": [
    "best_params= {'min_samples': 15, 'xi': 0.2, 'metric': 'euclidean'}"
   ]
  },
  {
   "cell_type": "code",
   "execution_count": null,
   "metadata": {},
   "outputs": [],
   "source": [
    "optics = OPTICS(min_samples=best_params['min_samples'], xi=best_params['xi'], metric=best_params['metric'])\n",
    "optics.fit(X)"
   ]
  },
  {
   "cell_type": "code",
   "execution_count": null,
   "metadata": {},
   "outputs": [],
   "source": [
    "best_score=silhouette_score(X, optics.labels_)\n",
    "print(\"Best Parameters:\", best_params)"
   ]
  },
  {
   "cell_type": "code",
   "execution_count": null,
   "metadata": {},
   "outputs": [],
   "source": [
    "optics_labels = optics.labels_\n",
    "df['Optics_Labels'] = optics_labels"
   ]
  },
  {
   "cell_type": "code",
   "execution_count": null,
   "metadata": {},
   "outputs": [],
   "source": [
    "df.groupby(['Optics_Labels'])['Total activo\\nmil EUR\\n2022'].count()"
   ]
  },
  {
   "cell_type": "code",
   "execution_count": null,
   "metadata": {},
   "outputs": [],
   "source": [
    "df.groupby(['Optics_Labels'])['Total activo\\nmil EUR\\n2022'].mean()"
   ]
  },
  {
   "cell_type": "markdown",
   "metadata": {},
   "source": [
    "## Selección final de Grupos"
   ]
  },
  {
   "cell_type": "markdown",
   "metadata": {},
   "source": [
    "Hemos considerado que el modelo seleccionado para el análisis final de los clusters es el K-means. Pues es este modelo el único que nos permite obtener un número razonable de grupos, de forma que se pueda hacer un análisis individualizado de cada grupo, sin tener una silueta demasiado baja."
   ]
  },
  {
   "cell_type": "code",
   "execution_count": 53,
   "metadata": {},
   "outputs": [],
   "source": [
    "# Mapeo clusters\n",
    "\n",
    "def mapeo_clusters(valor):\n",
    "    if valor == 2:\n",
    "        return 1\n",
    "    elif valor == 0:\n",
    "        return 2\n",
    "    elif valor == 3:\n",
    "        return 3\n",
    "    elif valor == 1:\n",
    "        return 4\n",
    "    else:\n",
    "        return 5\n",
    "    \n",
    "df_total[\"Cluster kmeans\"] = df_total[\"Cluster kmeans\"].apply(mapeo_clusters)"
   ]
  },
  {
   "cell_type": "code",
   "execution_count": 54,
   "metadata": {},
   "outputs": [],
   "source": [
    "# Nombre clusters\n",
    "\n",
    "def nombre_clusters(valor):\n",
    "    if valor == 1:\n",
    "        return 'Pequeños_comercios'\n",
    "    elif valor == 2:\n",
    "        return 'Pequeñas_empresas_con_buenas_ratios'\n",
    "    elif valor == 3:\n",
    "        return 'Empresas_con_moneda_extranjera'\n",
    "    elif valor == 4:\n",
    "        return 'Medianas_Empresas'\n",
    "    elif valor == 5:\n",
    "        return 'Grandes_Empresas'\n",
    "    \n",
    "df_total[\"Nombre_kmeans\"] = df_total[\"Cluster kmeans\"].apply(nombre_clusters)"
   ]
  },
  {
   "cell_type": "code",
   "execution_count": 55,
   "metadata": {},
   "outputs": [
    {
     "data": {
      "text/plain": [
       "Index(['Código NIF', 'Provincia_Alava', 'Provincia_Guipuzcoa',\n",
       "       'Total activo\\nmil EUR\\n2022', 'Empresa reciente',\n",
       "       'Sectores_Actividades Profesionales y Financieras', 'Sectores_Comercio',\n",
       "       'Sectores_Construccion e Inmobilarias', 'Sectores_Hosteleria',\n",
       "       'Sectores_Industria', 'Sectores_Transporte', 'Moneda no euro',\n",
       "       'Endeudamiento_cate', 'Solvencia', 'Evolucion_ventas_cate', 'ROA_cate',\n",
       "       'Cluster kmeans', 'Nombre_kmeans'],\n",
       "      dtype='object')"
      ]
     },
     "execution_count": 55,
     "metadata": {},
     "output_type": "execute_result"
    }
   ],
   "source": [
    "df_total.columns"
   ]
  },
  {
   "cell_type": "code",
   "execution_count": 56,
   "metadata": {},
   "outputs": [],
   "source": [
    "df_total=pd.merge(df_total, df_empresas, on='Código NIF', how='left')"
   ]
  },
  {
   "cell_type": "code",
   "execution_count": 57,
   "metadata": {},
   "outputs": [],
   "source": [
    "df_clusters=df_total[['Nombre', 'Código NIF' ,'Cluster kmeans', 'Nombre_kmeans']]"
   ]
  },
  {
   "cell_type": "code",
   "execution_count": 58,
   "metadata": {},
   "outputs": [],
   "source": [
    "df_total.to_excel('df_clusters.xlsx', index=False)\n",
    "df_clusters.to_excel('empresas_clasificadas_final.xlsx', index=False)"
   ]
  },
  {
   "cell_type": "code",
   "execution_count": null,
   "metadata": {},
   "outputs": [],
   "source": []
  }
 ],
 "metadata": {
  "kernelspec": {
   "display_name": "Python 3 (ipykernel)",
   "language": "python",
   "name": "python3"
  },
  "language_info": {
   "codemirror_mode": {
    "name": "ipython",
    "version": 3
   },
   "file_extension": ".py",
   "mimetype": "text/x-python",
   "name": "python",
   "nbconvert_exporter": "python",
   "pygments_lexer": "ipython3",
   "version": "3.11.5"
  },
  "widgets": {
   "application/vnd.jupyter.widget-state+json": {
    "state": {},
    "version_major": 2,
    "version_minor": 0
   }
  }
 },
 "nbformat": 4,
 "nbformat_minor": 4
}
