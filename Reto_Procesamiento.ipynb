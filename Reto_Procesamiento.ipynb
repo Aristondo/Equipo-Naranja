{
 "cells": [
  {
   "cell_type": "code",
   "execution_count": 1,
   "metadata": {},
   "outputs": [],
   "source": [
    "import pandas as pd\n",
    "import numpy as np\n",
    "import matplotlib.pyplot as plt\n",
    "import seaborn as sns"
   ]
  },
  {
   "cell_type": "code",
   "execution_count": null,
   "metadata": {},
   "outputs": [],
   "source": [
    "df_2020= pd.read_excel('2020.xlsx')\n",
    "df_2021= pd.read_excel('2021.xlsx')\n",
    "df_2022= pd.read_excel('2022.xlsx')"
   ]
  },
  {
   "cell_type": "code",
   "execution_count": null,
   "metadata": {},
   "outputs": [],
   "source": [
    "df_2022.columns"
   ]
  },
  {
   "cell_type": "code",
   "execution_count": null,
   "metadata": {},
   "outputs": [],
   "source": [
    "df_2022.info()"
   ]
  },
  {
   "cell_type": "code",
   "execution_count": null,
   "metadata": {},
   "outputs": [],
   "source": [
    "df_2020_ingexp = df_2020[['Código NIF','Ingresos de explotación\\nmil EUR\\n2020']]\n",
    "df_2020_ingexp.replace('n.d.',np.nan,inplace=True)\n",
    "df_2020_ingexp.replace('Financial Export limit reached',np.nan,inplace=True)\n",
    "df_2020_ingexp.isna().sum()\n"
   ]
  },
  {
   "cell_type": "code",
   "execution_count": null,
   "metadata": {},
   "outputs": [],
   "source": [
    "df_2022_col=df_2022[['Nombre', 'Código NIF', 'Localidad',\n",
    "       'Provincia', 'País', 'Código primario CNAE 2009',\n",
    "       'Literal código CNAE 2009 primario', 'Fecha constitución',\n",
    "       'Importador / Exportador', 'Países importación', 'Países exportación','Resultado del Ejercicio\\nmil EUR\\n2022',\n",
    "       'Total activo\\nmil EUR\\n2022', 'Ingresos de explotación\\nmil EUR\\n2022', 'Activo circulante\\nmil EUR\\n2022', \n",
    "       'Pasivo líquido\\nmil EUR\\n2022', 'Resultado Explotación\\nmil EUR\\n2022',  \n",
    "       'Otros activos líquidos\\nmil EUR\\n2022','Capital suscrito\\nmil EUR\\n2022',\n",
    "       'Otros fondos propios\\nmil EUR\\n2022','Número empleados\\n2022', 'Pasivo fijo\\nmil EUR\\n2022',\n",
    "       'Acreedores a L. P.\\nmil EUR\\n2022',\n",
    "       'Otros pasivos fijos\\nmil EUR\\n2022',\n",
    "       'Deudas financieras\\nmil EUR\\n2022',\n",
    "       'Acreedores comerciales\\nmil EUR\\n2022',\n",
    "       'Otros pasivos líquidos\\nmil EUR\\n2022', 'Inmovilizado\\nmil EUR\\n2022', 'Otros activos fijos\\nmil EUR\\n2022']]\n",
    "df_2022_col.head()"
   ]
  },
  {
   "cell_type": "markdown",
   "metadata": {},
   "source": [
    "Descartamos el df del 2021 al ver una gran cantidad de duplicados y al tener muchos menos datos no repetidos que el resto de los df."
   ]
  },
  {
   "cell_type": "code",
   "execution_count": null,
   "metadata": {},
   "outputs": [],
   "source": [
    "nif_comunes =  set(df_2020['Código NIF'])&set(df_2022['Código NIF'])\n",
    "len(nif_comunes)"
   ]
  },
  {
   "cell_type": "code",
   "execution_count": null,
   "metadata": {},
   "outputs": [],
   "source": [
    "paises=list(df_2022_col[['Países exportación']].value_counts().index)\n",
    "paises"
   ]
  },
  {
   "cell_type": "code",
   "execution_count": null,
   "metadata": {},
   "outputs": [],
   "source": [
    "df_2022_col_comunes =  df_2022_col[df_2022_col['Código NIF'].isin(nif_comunes)]\n",
    "df_2022_col_comunes.drop_duplicates(inplace=True)\n",
    "df_2022_col_comunes.reset_index(inplace=True, drop=True)\n",
    "df_2022_col_comunes.head()"
   ]
  },
  {
   "cell_type": "code",
   "execution_count": null,
   "metadata": {},
   "outputs": [],
   "source": [
    "df_2020_comunes =  df_2020[df_2020['Código NIF'].isin(nif_comunes)]\n",
    "df_2020_comunes.drop_duplicates(inplace=True)\n",
    "df_2020_comunes.reset_index(inplace=True, drop=True)\n",
    "df_2020_comunes.head()"
   ]
  },
  {
   "cell_type": "code",
   "execution_count": null,
   "metadata": {},
   "outputs": [],
   "source": [
    "df_2022_comunes =  df_2022[df_2022['Código NIF'].isin(nif_comunes)]\n",
    "df_2022_comunes.reset_index(inplace=True, drop=True)\n",
    "df_2022_comunes.drop_duplicates(inplace=True)\n",
    "df_2022_comunes.reset_index(inplace=True, drop=True)\n",
    "df_2022_comunes.head()"
   ]
  },
  {
   "cell_type": "code",
   "execution_count": null,
   "metadata": {},
   "outputs": [],
   "source": [
    "df_2022_col_comunes.columns"
   ]
  },
  {
   "cell_type": "code",
   "execution_count": null,
   "metadata": {},
   "outputs": [],
   "source": [
    "df_2020_comunes.replace('n.d.',np.nan,inplace=True)\n",
    "df_2022_comunes.replace('n.d.',np.nan,inplace=True)\n",
    "df_2022_col_comunes.replace('n.d.',np.nan,inplace=True)"
   ]
  },
  {
   "cell_type": "code",
   "execution_count": null,
   "metadata": {},
   "outputs": [],
   "source": [
    "print(df_2022_col_comunes.isna().sum())"
   ]
  },
  {
   "cell_type": "code",
   "execution_count": null,
   "metadata": {},
   "outputs": [],
   "source": [
    "df_2022_col_comunes=df_2022_col_comunes[df_2022_col_comunes['Total activo\\nmil EUR\\n2022'].notna()]\n",
    "df_2022_col_comunes.isna().sum()\n"
   ]
  },
  {
   "cell_type": "code",
   "execution_count": null,
   "metadata": {},
   "outputs": [],
   "source": [
    "df_2020_2022=df_2022_col_comunes.merge(df_2020_ingexp, on='Código NIF', how='left')"
   ]
  },
  {
   "cell_type": "markdown",
   "metadata": {},
   "source": [
    "### PROCESAMIENTO"
   ]
  },
  {
   "cell_type": "code",
   "execution_count": null,
   "metadata": {},
   "outputs": [],
   "source": [
    "#Factorizar la columna fecha de constitución\n",
    "df_2020_2022['Fecha constitución'] = pd.to_datetime(df_2020_2022['Fecha constitución'])\n",
    "df_2020_2022['Empresa reciente'] = df_2020_2022['Fecha constitución'].apply(lambda x: False if x.year < 2019 else True)"
   ]
  },
  {
   "cell_type": "code",
   "execution_count": null,
   "metadata": {},
   "outputs": [],
   "source": [
    "#Factorizar columna\n",
    "print(df_2020_2022['Provincia'].unique())\n",
    "df_2020_2022 = pd.get_dummies(df_2020_2022,columns=[\"Provincia\"])\n"
   ]
  },
  {
   "cell_type": "code",
   "execution_count": null,
   "metadata": {},
   "outputs": [],
   "source": [
    "#Indice\n",
    "# df_2020_2022.set_index(\"Código NIF\", inplace=True)\n",
    "# df_2020_2022.index.name=None"
   ]
  },
  {
   "cell_type": "code",
   "execution_count": null,
   "metadata": {},
   "outputs": [],
   "source": [
    "df_2020_2022"
   ]
  },
  {
   "cell_type": "markdown",
   "metadata": {},
   "source": [
    "# Mapeo de Sectores"
   ]
  },
  {
   "cell_type": "code",
   "execution_count": null,
   "metadata": {},
   "outputs": [],
   "source": [
    "# Función para mapear sectores (1)\n",
    "\n",
    "def mapeo_sectores(cnae):\n",
    "    if cnae < 500:\n",
    "        return \"Agricultura\"\n",
    "    elif cnae < 1000:\n",
    "        return \"Extraccion\"\n",
    "    elif cnae < 3500:\n",
    "        return \"Industria\"\n",
    "    elif cnae < 3599:\n",
    "        return \"Energia\"\n",
    "    elif cnae < 4000:\n",
    "        return \"Agua\"\n",
    "    elif cnae < 4400:\n",
    "        return \"Construccion\"\n",
    "    elif cnae < 4800:\n",
    "        return \"Comercio\"\n",
    "    elif cnae < 5500:\n",
    "        return \"Transporte\"\n",
    "    elif cnae < 5800:\n",
    "        return \"Hosteleria\"\n",
    "    elif cnae < 6400:\n",
    "        return \"Comunicaciones\"\n",
    "    elif cnae < 6800:\n",
    "        return \"Financieras\"\n",
    "    elif cnae < 6900:\n",
    "        return \"Inmobiliarias\"\n",
    "    elif cnae < 7700:\n",
    "        return \"Actividades Profesionales\"\n",
    "    elif cnae < 8300:\n",
    "        return \"Actividades Administrativas\"\n",
    "    elif cnae < 8500:\n",
    "        return \"Administracion Publica y Defensa\"\n",
    "    elif cnae < 8600:\n",
    "        return \"Educacion\"\n",
    "    elif cnae < 9000:\n",
    "        return \"Actividades Sanitarias\"\n",
    "    elif cnae < 9400:\n",
    "        return \"Actividades Artisticas\"\n",
    "    else:\n",
    "        return \"Otros\"\n",
    "    \n",
    "\n",
    "df_2020_2022[\"Mapeo Sectores\"] = df_2020_2022[\"Código primario CNAE 2009\"].apply(mapeo_sectores)"
   ]
  },
  {
   "cell_type": "code",
   "execution_count": null,
   "metadata": {},
   "outputs": [],
   "source": [
    "df_2020_2022[\"Mapeo Sectores\"].value_counts()"
   ]
  },
  {
   "cell_type": "code",
   "execution_count": null,
   "metadata": {},
   "outputs": [],
   "source": [
    "def mapeo_sectores(cnae):\n",
    "    if cnae < 500:\n",
    "        return \"Otros\" # Agricultura\n",
    "    elif cnae < 1000:\n",
    "        return \"Otros\" # Extraccion\n",
    "    elif cnae < 3500:\n",
    "        return \"Industria\"\n",
    "    elif cnae < 3599:\n",
    "        return \"Otros\" # Energia\n",
    "    elif cnae < 4000:\n",
    "        return \"Otros\" # Agua\n",
    "    elif cnae < 4400:\n",
    "        return \"Construccion e Inmobilarias\" # Construccion\n",
    "    elif cnae < 4800:\n",
    "        return \"Comercio\"\n",
    "    elif cnae < 5500:\n",
    "        return \"Transporte\"\n",
    "    elif cnae < 5800:\n",
    "        return \"Hosteleria\"\n",
    "    elif cnae < 6400:\n",
    "        return \"Otros\" # Comunicaciones\n",
    "    elif cnae < 6800:\n",
    "        return \"Actividades Profesionales y Financieras\" # Financieras\n",
    "    elif cnae < 6900:\n",
    "        return \"Construccion e Inmobilarias\" # Inmobiliarias\n",
    "    elif cnae < 7700:\n",
    "        return \"Actividades Profesionales y Financieras\" # Actividades Profesionales\n",
    "    elif cnae < 8300:\n",
    "        return \"Otros\" # Actividades Administrativas\n",
    "    elif cnae < 8500:\n",
    "        return \"Otros\" # Administracion Publica y Defensa\n",
    "    elif cnae < 8600:\n",
    "        return \"Otros\" # Educacion\n",
    "    elif cnae < 9000:\n",
    "        return \"Otros\" # Actividades Sanitarias\n",
    "    elif cnae < 9400:\n",
    "        return \"Otros\" # Actividades Artisticas\n",
    "    else:\n",
    "        return \"Otros\"\n",
    "    \n",
    "df_2020_2022[\"Sectores\"] = df_2020_2022[\"Código primario CNAE 2009\"].apply(mapeo_sectores)\n",
    "df_2020_2022[\"Sectores\"].value_counts()\n"
   ]
  },
  {
   "cell_type": "code",
   "execution_count": null,
   "metadata": {},
   "outputs": [],
   "source": [
    "df_2020_2022 = pd.get_dummies(df_2020_2022,columns=[\"Sectores\"])"
   ]
  },
  {
   "cell_type": "code",
   "execution_count": null,
   "metadata": {},
   "outputs": [],
   "source": [
    "df_2020_2022 = df_2020_2022.drop(columns=[\"Sectores_Otros\"])"
   ]
  },
  {
   "cell_type": "code",
   "execution_count": null,
   "metadata": {},
   "outputs": [],
   "source": [
    "df_2020_2022.drop(columns=[\"Código primario CNAE 2009\",\"Literal código CNAE 2009 primario\"],inplace=True)"
   ]
  },
  {
   "cell_type": "markdown",
   "metadata": {},
   "source": [
    "# Comercio en Euros o no"
   ]
  },
  {
   "cell_type": "code",
   "execution_count": null,
   "metadata": {},
   "outputs": [],
   "source": [
    "df_2020_2022[\"Importador / Exportador\"].value_counts()"
   ]
  },
  {
   "cell_type": "code",
   "execution_count": null,
   "metadata": {},
   "outputs": [],
   "source": [
    "list(set(list(set((\";\".join(list(df_2020_2022[\"Países exportación\"].value_counts().index))).split(\";\")))+ list(set((\";\".join(list(df_2020_2022[\"Países importación\"].value_counts().index))).split(\";\")))))"
   ]
  },
  {
   "cell_type": "code",
   "execution_count": null,
   "metadata": {},
   "outputs": [],
   "source": [
    "no_euro = [\"ESLOVAQUIA\",\n",
    " 'ARGENTINA',\n",
    " 'FILIPINAS',\n",
    " 'COSTA DE MARFIL',\n",
    " 'AUSTRALIA',\n",
    " 'ISRAEL',\n",
    " 'URUGUAY',\n",
    " 'CHINA',\n",
    " 'SUECIA',\n",
    " 'ORIENTE MEDIO',\n",
    " 'SUDAMERICA',\n",
    " 'CANADA',\n",
    " 'MAURITANIA',\n",
    " 'NORTE AMERICA',\n",
    " 'CUBA',\n",
    " 'DINAMARCA',\n",
    " 'ARGELIA',\n",
    " 'NIGERIA',\n",
    " 'GHANA',\n",
    " 'VENEZUELA',\n",
    " 'SUI',\n",
    " 'ECUADOR',\n",
    " 'SINGAPUR',\n",
    " 'NUEVA ZELANDA',\n",
    " 'GROENLANDIA',\n",
    " 'ARABIA SAUDI',\n",
    " 'POLONIA',\n",
    " 'SUIZA',\n",
    " 'PAISES ARABES',\n",
    " 'PAKISTAN',\n",
    " 'HUNGRIA',\n",
    " 'BAHREIN',\n",
    " 'VIETNAM',\n",
    " 'AFRICA DEL NORTE',\n",
    " 'MOZAMBIQUE',\n",
    " 'QATAR',\n",
    " 'COREA DEL SUR',\n",
    " 'TAILANDIA',\n",
    " 'PERU',\n",
    " 'MALI',\n",
    " 'MEXICO',\n",
    " 'PANAMA',\n",
    " 'MALASIA',\n",
    " 'UK',\n",
    " 'RUMANIA',\n",
    " 'OCEANIA',\n",
    " 'EMIRATOS ARABES UNIDOS',\n",
    " 'ASIA',\n",
    " 'REPUBLICA CHECA',\n",
    " 'AFRICA',\n",
    " 'LIBIA',\n",
    " 'BULGARIA',\n",
    " 'AMERICA',\n",
    " 'CHILE',\n",
    " 'CAMERUN',\n",
    " 'SERBIA',\n",
    " 'IRAN',\n",
    " 'TUNEZ',\n",
    " 'COSTA RICA',\n",
    " 'KAZAJSTAN',\n",
    " 'BRASIL',\n",
    " 'REPUBLICA DOMINICANA',\n",
    " 'HONG KONG',\n",
    " 'SENEGAL',\n",
    " 'INDONESIA',\n",
    " 'ANGOLA',\n",
    " 'CENTRO AMERICA',\n",
    " 'EGIPTO',\n",
    " 'MARRUECOS',\n",
    " 'EEUU',\n",
    " 'RUSIA',\n",
    " 'JAPON',\n",
    " 'COLOMBIA',\n",
    " 'TURQUIA',\n",
    " 'UCRANIA',\n",
    " 'SEYCHELLES',\n",
    " 'INDIA',\n",
    " 'SUDAFRICA']"
   ]
  },
  {
   "cell_type": "code",
   "execution_count": null,
   "metadata": {},
   "outputs": [],
   "source": [
    "def pais(lista_paises):\n",
    "    if type(lista_paises)==float:\n",
    "        return np.nan\n",
    "    lista_paises_sp = lista_paises.split(\";\")\n",
    "    for pais in no_euro:\n",
    "        if pais in lista_paises_sp:\n",
    "            return True\n",
    "    else:\n",
    "        return False\n",
    "\n",
    "exp = df_2020_2022[\"Países exportación\"].apply(pais)\n",
    "imp = df_2020_2022[\"Países importación\"].apply(pais)"
   ]
  },
  {
   "cell_type": "code",
   "execution_count": null,
   "metadata": {},
   "outputs": [],
   "source": [
    "moneda = []\n",
    "for i in range(len(exp)):\n",
    "    if (exp[i] == True) or (imp[i]==True):\n",
    "        moneda.append(True)\n",
    "    else:\n",
    "        moneda.append(False)"
   ]
  },
  {
   "cell_type": "code",
   "execution_count": null,
   "metadata": {},
   "outputs": [],
   "source": [
    "df_2020_2022[\"Moneda no euro\"] = moneda"
   ]
  },
  {
   "cell_type": "code",
   "execution_count": null,
   "metadata": {},
   "outputs": [],
   "source": [
    "df_2020_2022[\"Moneda no euro\"].isna().sum() - df_2020_2022[\"Importador / Exportador\"].value_counts()[0]"
   ]
  },
  {
   "cell_type": "code",
   "execution_count": null,
   "metadata": {},
   "outputs": [],
   "source": [
    "df_2020_2022[[\"Países importación\",\"Países exportación\",\"Moneda no euro\"]].head(20)"
   ]
  },
  {
   "cell_type": "markdown",
   "metadata": {},
   "source": [
    "### RATIOS"
   ]
  },
  {
   "cell_type": "code",
   "execution_count": null,
   "metadata": {},
   "outputs": [],
   "source": [
    "df_2020_2022['Otros fondos propios\\nmil EUR\\n2022'] = df_2020_2022['Otros fondos propios\\nmil EUR\\n2022'].fillna(0)\n",
    "df_2020_2022['Pasivo Total']=df_2020_2022['Total activo\\nmil EUR\\n2022']-df_2020_2022['Capital suscrito\\nmil EUR\\n2022']-df_2020_2022['Otros fondos propios\\nmil EUR\\n2022']\n",
    "columnas_sumar=['Pasivo fijo\\nmil EUR\\n2022', 'Pasivo líquido\\nmil EUR\\n2022']\n",
    "df_2020_2022['Pasivo Total'] = df_2020_2022['Pasivo Total'].fillna(df_2020_2022[columnas_sumar].sum(axis=1))\n",
    "df_2020_2022.loc[df_2020_2022['Pasivo Total'] < 0, 'Pasivo Total'] = 0\n",
    "df_2020_2022['Endeudamiento']=df_2020_2022['Pasivo Total']/df_2020_2022['Total activo\\nmil EUR\\n2022']\n"
   ]
  },
  {
   "cell_type": "code",
   "execution_count": null,
   "metadata": {},
   "outputs": [],
   "source": [
    "columnas_sumar2=['Inmovilizado\\nmil EUR\\n2022', 'Otros activos fijos\\nmil EUR\\n2022']\n",
    "df_2020_2022['Activo circulante\\nmil EUR\\n2022']=df_2020_2022['Activo circulante\\nmil EUR\\n2022'].fillna(df_2020_2022['Total activo\\nmil EUR\\n2022'] - df_2020_2022[columnas_sumar2].sum(axis=1))\n",
    "df_2020_2022['Pasivo fijo\\nmil EUR\\n2022']=df_2020_2022['Pasivo fijo\\nmil EUR\\n2022'].fillna(0)\n",
    "df_2020_2022['Pasivo líquido\\nmil EUR\\n2022'] = df_2020_2022['Pasivo líquido\\nmil EUR\\n2022'].fillna(df_2020_2022['Pasivo Total'] - df_2020_2022['Pasivo fijo\\nmil EUR\\n2022'])\n",
    "df_2020_2022['Solvencia']=df_2020_2022['Activo circulante\\nmil EUR\\n2022']/df_2020_2022['Pasivo líquido\\nmil EUR\\n2022']\n",
    "df_2020_2022.loc[df_2020_2022['Solvencia'] < 0, 'Solvencia'] = 0"
   ]
  },
  {
   "cell_type": "code",
   "execution_count": null,
   "metadata": {},
   "outputs": [],
   "source": [
    "df_2020_2022['Evolucion_ventas_total']=df_2020_2022['Ingresos de explotación\\nmil EUR\\n2022']-df_2020_2022['Ingresos de explotación\\nmil EUR\\n2020']\n",
    "df_2020_2022['Evolucion_ventas']=df_2020_2022['Evolucion_ventas_total']/df_2020_2022['Ingresos de explotación\\nmil EUR\\n2020']\n",
    "df_2020_2022['Evolucion_ventas'] = df_2020_2022['Evolucion_ventas'].fillna(0)"
   ]
  },
  {
   "cell_type": "code",
   "execution_count": null,
   "metadata": {},
   "outputs": [],
   "source": [
    "df_2020_2022['Resultado del Ejercicio\\nmil EUR\\n2022'] = df_2020_2022['Resultado del Ejercicio\\nmil EUR\\n2022'].fillna(0)\n",
    "df_2020_2022['ROA']=df_2020_2022['Resultado del Ejercicio\\nmil EUR\\n2022']/df_2020_2022['Total activo\\nmil EUR\\n2022']"
   ]
  },
  {
   "cell_type": "markdown",
   "metadata": {},
   "source": [
    "### Categorizar solvencia"
   ]
  },
  {
   "cell_type": "code",
   "execution_count": null,
   "metadata": {},
   "outputs": [],
   "source": [
    "def solv(val):\n",
    "    if val < 0.7:\n",
    "        return 0\n",
    "    elif val < 1:\n",
    "        return 1\n",
    "    elif val < 1.5:\n",
    "        return 2\n",
    "    else:\n",
    "        return 3"
   ]
  },
  {
   "cell_type": "code",
   "execution_count": null,
   "metadata": {},
   "outputs": [],
   "source": [
    "df_2020_2022[\"Solvencia\"] = df_2020_2022[\"Solvencia\"].apply(lambda x: solv(x))"
   ]
  },
  {
   "cell_type": "code",
   "execution_count": null,
   "metadata": {},
   "outputs": [],
   "source": [
    "df_2020_2022.columns"
   ]
  },
  {
   "cell_type": "code",
   "execution_count": null,
   "metadata": {},
   "outputs": [],
   "source": [
    "df_procesado=df_2020_2022[[\"Código NIF\", 'Provincia', 'Total activo\\nmil EUR\\n2022',\n",
    "       'Empresa reciente', 'Sectores_Actividades Profesionales y Financieras',\n",
    "       'Sectores_Comercio', 'Sectores_Construccion e Inmobilarias',\n",
    "       'Sectores_Hosteleria', 'Sectores_Industria',\n",
    "       'Sectores_Transporte', 'Moneda no euro',\n",
    "       'Endeudamiento', 'Solvencia', 'Evolucion_ventas', 'ROA']]"
   ]
  },
  {
   "cell_type": "code",
   "execution_count": null,
   "metadata": {},
   "outputs": [],
   "source": [
    "df_procesado.info()"
   ]
  },
  {
   "cell_type": "code",
   "execution_count": null,
   "metadata": {},
   "outputs": [],
   "source": [
    "df_procesado.to_excel('df_procesado.xlsx', index=False)"
   ]
  },
  {
   "cell_type": "markdown",
   "metadata": {},
   "source": [
    "- ver cuales son las variables que nos interesan y cuales no para eliminarlas, correlacion haciendo dropna?\n",
    "- ver las filas que tienen casi todo na por si eliminamos las filas y nos quedamos con las variables\n",
    "- interpolacion en alguna de las columnas?\n",
    "- pensar que nuevas varibales nos pueden valer.\n",
    "-pensar los modelos que vamos a utilizar para el clustering, k-means, clustering jerarquico...\n",
    "- organizar los 4 puntos del trabajo(4 archivos diferentes para cada paso):\n",
    "1. Iniciar el proyecto requiere primero comprender el significado de las\n",
    "variables presentes en las bases de datos y realizar una depuración de\n",
    "estos datos para que sean aptos para trabajar con ellos.\n",
    "\n",
    "2. Seguidamente, se procederá al cálculo de los ratios financieros.\n",
    "\n",
    "3. Luego, basándose en los cálculos anteriores, se segmentarán las\n",
    "empresas mediante el uso de algoritmos de clustering.\n",
    "\n",
    "4. Tras segmentar las empresas en diferentes grupos, estos se deberán\n",
    "analizar individualmente para poder seleccionar los productos financieros\n",
    "que mejor se adecuan a cada tipo de empresa. Se realizará una\n",
    "investigación y análisis detallado de una amplia gama de productos\n",
    "financieros disponibles en el mercado. Esto incluirá, pero no se limitará a,\n",
    "préstamos, líneas de crédito, opciones de inversión, y seguros\n",
    "empresariales. Esta investigación deberá utilizar como punto de partida al\n",
    "cliente principal, Inetum, y valorar sus posibilidades a la hora de elegir los\n",
    "productos financieros.\n",
    "\n",
    "\n",
    "ESTA ES LA DISTRIBUCIÓN QUE SE PROPONE:\n",
    "1. Procesamiento\n",
    "2. Análisis exploratorio\n",
    "3. Selección del modelo\n",
    "4. Optimización del modelo\n",
    "5. Resultados (visualización)\n",
    "\n",
    "- Cada cosa en un cuaderno diferente\n",
    "- De cada cuaderno sale un nuevo fichero de datos\n",
    "- El nuevo fichero de datos se utilizará en el siguiente cuaderno\n",
    "- Es un proceso secuencial"
   ]
  },
  {
   "cell_type": "code",
   "execution_count": null,
   "metadata": {},
   "outputs": [],
   "source": []
  }
 ],
 "metadata": {
  "kernelspec": {
   "display_name": "Python 3 (ipykernel)",
   "language": "python",
   "name": "python3"
  },
  "language_info": {
   "codemirror_mode": {
    "name": "ipython",
    "version": 3
   },
   "file_extension": ".py",
   "mimetype": "text/x-python",
   "name": "python",
   "nbconvert_exporter": "python",
   "pygments_lexer": "ipython3",
   "version": "3.11.5"
  },
  "widgets": {
   "application/vnd.jupyter.widget-state+json": {
    "state": {},
    "version_major": 2,
    "version_minor": 0
   }
  }
 },
 "nbformat": 4,
 "nbformat_minor": 4
}
